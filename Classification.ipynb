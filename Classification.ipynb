{
 "cells": [
  {
   "cell_type": "markdown",
   "id": "75cbaf15",
   "metadata": {},
   "source": [
    "<h1> Classification: </h1>\n",
    "<p> In ML, classification is the task of reciving input data, and determining the probabilities that it belongs to a set of output groups.</p>\n",
    "<p> Less abstractly, a good example of this would be: say you have a bunch of pictures of animals. You want to determine which animal is in each picture. You set up a bunch of categories beforehand (i.e dog, cat, bird) and then you train a model to assign probabilities to each category given an input picture. Then, if you can train the model to have a high accuracy, you can get it to \"guess\" which animal is in each picture, classifying the picture with high accuracy. </p>\n",
    "<p> For this example, I'm going to be using the iris-flower dataset, which has a bunch of measurements of flower characteristics, as well as a \"classification\" of what species that flower is. I will try to train a model to predict that classification with high accuracy. </p>"
   ]
  },
  {
   "cell_type": "code",
   "execution_count": 1,
   "id": "3bee2fee",
   "metadata": {},
   "outputs": [],
   "source": [
    "from __future__ import absolute_import, division, print_function, unicode_literals\n",
    "\n",
    "import tensorflow as tf\n",
    "\n",
    "import pandas as pd"
   ]
  },
  {
   "cell_type": "markdown",
   "id": "13e61348",
   "metadata": {},
   "source": [
    "<h2> Dataset: </h2>\n",
    "\n",
    "This specific dataset seperates flowers into 3 different classes of species.\n",
    "- Setosa\n",
    "- Versicolor\n",
    "- Virginica\n",
    "\n",
    "The information about each flower is the following.\n",
    "- sepal length\n",
    "- sepal width\n",
    "- petal length\n",
    "- petal width"
   ]
  },
  {
   "cell_type": "code",
   "execution_count": 5,
   "id": "7d42845a",
   "metadata": {},
   "outputs": [],
   "source": [
    "CSV_COLUMN_NAMES = ['SepalLength', 'SepalWidth', 'PetalLength', 'PetalWidth', 'Species']\n",
    "SPECIES = ['Setosa', 'Versicolor', 'Virginica']\n",
    "# Lets define some constants to help us later on"
   ]
  },
  {
   "cell_type": "code",
   "execution_count": 6,
   "id": "de17cd19",
   "metadata": {},
   "outputs": [],
   "source": [
    "train_path = tf.keras.utils.get_file(\n",
    "    \"iris_training.csv\", \"https://storage.googleapis.com/download.tensorflow.org/data/iris_training.csv\")\n",
    "test_path = tf.keras.utils.get_file(\n",
    "    \"iris_test.csv\", \"https://storage.googleapis.com/download.tensorflow.org/data/iris_test.csv\")\n",
    "\n",
    "train = pd.read_csv(train_path, names=CSV_COLUMN_NAMES, header=0)\n",
    "test = pd.read_csv(test_path, names=CSV_COLUMN_NAMES, header=0)\n",
    "# Here we use keras (a module inside of TensorFlow) to grab our datasets and read them into a pandas dataframe"
   ]
  },
  {
   "cell_type": "code",
   "execution_count": 7,
   "id": "e0f3f817",
   "metadata": {},
   "outputs": [
    {
     "data": {
      "text/html": [
       "<div>\n",
       "<style scoped>\n",
       "    .dataframe tbody tr th:only-of-type {\n",
       "        vertical-align: middle;\n",
       "    }\n",
       "\n",
       "    .dataframe tbody tr th {\n",
       "        vertical-align: top;\n",
       "    }\n",
       "\n",
       "    .dataframe thead th {\n",
       "        text-align: right;\n",
       "    }\n",
       "</style>\n",
       "<table border=\"1\" class=\"dataframe\">\n",
       "  <thead>\n",
       "    <tr style=\"text-align: right;\">\n",
       "      <th></th>\n",
       "      <th>SepalLength</th>\n",
       "      <th>SepalWidth</th>\n",
       "      <th>PetalLength</th>\n",
       "      <th>PetalWidth</th>\n",
       "      <th>Species</th>\n",
       "    </tr>\n",
       "  </thead>\n",
       "  <tbody>\n",
       "    <tr>\n",
       "      <th>0</th>\n",
       "      <td>6.4</td>\n",
       "      <td>2.8</td>\n",
       "      <td>5.6</td>\n",
       "      <td>2.2</td>\n",
       "      <td>2</td>\n",
       "    </tr>\n",
       "    <tr>\n",
       "      <th>1</th>\n",
       "      <td>5.0</td>\n",
       "      <td>2.3</td>\n",
       "      <td>3.3</td>\n",
       "      <td>1.0</td>\n",
       "      <td>1</td>\n",
       "    </tr>\n",
       "    <tr>\n",
       "      <th>2</th>\n",
       "      <td>4.9</td>\n",
       "      <td>2.5</td>\n",
       "      <td>4.5</td>\n",
       "      <td>1.7</td>\n",
       "      <td>2</td>\n",
       "    </tr>\n",
       "    <tr>\n",
       "      <th>3</th>\n",
       "      <td>4.9</td>\n",
       "      <td>3.1</td>\n",
       "      <td>1.5</td>\n",
       "      <td>0.1</td>\n",
       "      <td>0</td>\n",
       "    </tr>\n",
       "    <tr>\n",
       "      <th>4</th>\n",
       "      <td>5.7</td>\n",
       "      <td>3.8</td>\n",
       "      <td>1.7</td>\n",
       "      <td>0.3</td>\n",
       "      <td>0</td>\n",
       "    </tr>\n",
       "  </tbody>\n",
       "</table>\n",
       "</div>"
      ],
      "text/plain": [
       "   SepalLength  SepalWidth  PetalLength  PetalWidth  Species\n",
       "0          6.4         2.8          5.6         2.2        2\n",
       "1          5.0         2.3          3.3         1.0        1\n",
       "2          4.9         2.5          4.5         1.7        2\n",
       "3          4.9         3.1          1.5         0.1        0\n",
       "4          5.7         3.8          1.7         0.3        0"
      ]
     },
     "execution_count": 7,
     "metadata": {},
     "output_type": "execute_result"
    }
   ],
   "source": [
    "#can look at our training data\n",
    "train.head()"
   ]
  },
  {
   "cell_type": "code",
   "execution_count": 8,
   "id": "33b39ae1",
   "metadata": {},
   "outputs": [
    {
     "data": {
      "text/html": [
       "<div>\n",
       "<style scoped>\n",
       "    .dataframe tbody tr th:only-of-type {\n",
       "        vertical-align: middle;\n",
       "    }\n",
       "\n",
       "    .dataframe tbody tr th {\n",
       "        vertical-align: top;\n",
       "    }\n",
       "\n",
       "    .dataframe thead th {\n",
       "        text-align: right;\n",
       "    }\n",
       "</style>\n",
       "<table border=\"1\" class=\"dataframe\">\n",
       "  <thead>\n",
       "    <tr style=\"text-align: right;\">\n",
       "      <th></th>\n",
       "      <th>SepalLength</th>\n",
       "      <th>SepalWidth</th>\n",
       "      <th>PetalLength</th>\n",
       "      <th>PetalWidth</th>\n",
       "      <th>Species</th>\n",
       "    </tr>\n",
       "  </thead>\n",
       "  <tbody>\n",
       "    <tr>\n",
       "      <th>0</th>\n",
       "      <td>5.9</td>\n",
       "      <td>3.0</td>\n",
       "      <td>4.2</td>\n",
       "      <td>1.5</td>\n",
       "      <td>1</td>\n",
       "    </tr>\n",
       "    <tr>\n",
       "      <th>1</th>\n",
       "      <td>6.9</td>\n",
       "      <td>3.1</td>\n",
       "      <td>5.4</td>\n",
       "      <td>2.1</td>\n",
       "      <td>2</td>\n",
       "    </tr>\n",
       "    <tr>\n",
       "      <th>2</th>\n",
       "      <td>5.1</td>\n",
       "      <td>3.3</td>\n",
       "      <td>1.7</td>\n",
       "      <td>0.5</td>\n",
       "      <td>0</td>\n",
       "    </tr>\n",
       "    <tr>\n",
       "      <th>3</th>\n",
       "      <td>6.0</td>\n",
       "      <td>3.4</td>\n",
       "      <td>4.5</td>\n",
       "      <td>1.6</td>\n",
       "      <td>1</td>\n",
       "    </tr>\n",
       "    <tr>\n",
       "      <th>4</th>\n",
       "      <td>5.5</td>\n",
       "      <td>2.5</td>\n",
       "      <td>4.0</td>\n",
       "      <td>1.3</td>\n",
       "      <td>1</td>\n",
       "    </tr>\n",
       "  </tbody>\n",
       "</table>\n",
       "</div>"
      ],
      "text/plain": [
       "   SepalLength  SepalWidth  PetalLength  PetalWidth  Species\n",
       "0          5.9         3.0          4.2         1.5        1\n",
       "1          6.9         3.1          5.4         2.1        2\n",
       "2          5.1         3.3          1.7         0.5        0\n",
       "3          6.0         3.4          4.5         1.6        1\n",
       "4          5.5         2.5          4.0         1.3        1"
      ]
     },
     "execution_count": 8,
     "metadata": {},
     "output_type": "execute_result"
    }
   ],
   "source": [
    "#and our testing data\n",
    "test.head()"
   ]
  },
  {
   "cell_type": "markdown",
   "id": "e8504fee",
   "metadata": {},
   "source": [
    "<p> Here our encoding for the \"species\" classification is as follows: </p>\n",
    "<ul>\n",
    "    <li> Setosa: 0 </li>\n",
    "    <li> Versicolor: 1 </li>\n",
    "    <li> Virginica: 2 </li>\n",
    "</ul>"
   ]
  },
  {
   "cell_type": "code",
   "execution_count": 9,
   "id": "ec2c2651",
   "metadata": {},
   "outputs": [
    {
     "data": {
      "text/html": [
       "<div>\n",
       "<style scoped>\n",
       "    .dataframe tbody tr th:only-of-type {\n",
       "        vertical-align: middle;\n",
       "    }\n",
       "\n",
       "    .dataframe tbody tr th {\n",
       "        vertical-align: top;\n",
       "    }\n",
       "\n",
       "    .dataframe thead th {\n",
       "        text-align: right;\n",
       "    }\n",
       "</style>\n",
       "<table border=\"1\" class=\"dataframe\">\n",
       "  <thead>\n",
       "    <tr style=\"text-align: right;\">\n",
       "      <th></th>\n",
       "      <th>SepalLength</th>\n",
       "      <th>SepalWidth</th>\n",
       "      <th>PetalLength</th>\n",
       "      <th>PetalWidth</th>\n",
       "    </tr>\n",
       "  </thead>\n",
       "  <tbody>\n",
       "    <tr>\n",
       "      <th>0</th>\n",
       "      <td>6.4</td>\n",
       "      <td>2.8</td>\n",
       "      <td>5.6</td>\n",
       "      <td>2.2</td>\n",
       "    </tr>\n",
       "    <tr>\n",
       "      <th>1</th>\n",
       "      <td>5.0</td>\n",
       "      <td>2.3</td>\n",
       "      <td>3.3</td>\n",
       "      <td>1.0</td>\n",
       "    </tr>\n",
       "    <tr>\n",
       "      <th>2</th>\n",
       "      <td>4.9</td>\n",
       "      <td>2.5</td>\n",
       "      <td>4.5</td>\n",
       "      <td>1.7</td>\n",
       "    </tr>\n",
       "    <tr>\n",
       "      <th>3</th>\n",
       "      <td>4.9</td>\n",
       "      <td>3.1</td>\n",
       "      <td>1.5</td>\n",
       "      <td>0.1</td>\n",
       "    </tr>\n",
       "    <tr>\n",
       "      <th>4</th>\n",
       "      <td>5.7</td>\n",
       "      <td>3.8</td>\n",
       "      <td>1.7</td>\n",
       "      <td>0.3</td>\n",
       "    </tr>\n",
       "  </tbody>\n",
       "</table>\n",
       "</div>"
      ],
      "text/plain": [
       "   SepalLength  SepalWidth  PetalLength  PetalWidth\n",
       "0          6.4         2.8          5.6         2.2\n",
       "1          5.0         2.3          3.3         1.0\n",
       "2          4.9         2.5          4.5         1.7\n",
       "3          4.9         3.1          1.5         0.1\n",
       "4          5.7         3.8          1.7         0.3"
      ]
     },
     "execution_count": 9,
     "metadata": {},
     "output_type": "execute_result"
    }
   ],
   "source": [
    "#Use the species column as the label (category)\n",
    "train_y = train.pop('Species')\n",
    "test_y = test.pop('Species')\n",
    "train.head()"
   ]
  },
  {
   "cell_type": "code",
   "execution_count": 11,
   "id": "769cc18d",
   "metadata": {},
   "outputs": [],
   "source": [
    "#make our input function\n",
    "#simpler because no epochs\n",
    "def input_fn(features, labels, training=True, batch_size=256):\n",
    "    #convert input to tensorflow dataset\n",
    "    dataset = tf.data.Dataset.from_tensor_slices((dict(features),labels))\n",
    "    \n",
    "    #shuffle the dataset if training the model\n",
    "    if training:\n",
    "        dataset = dataset.shuffle(1000).repeat()\n",
    "        \n",
    "    return dataset.batch(batch_size)"
   ]
  },
  {
   "cell_type": "code",
   "execution_count": 12,
   "id": "4500fc71",
   "metadata": {},
   "outputs": [
    {
     "name": "stdout",
     "output_type": "stream",
     "text": [
      "[NumericColumn(key='SepalLength', shape=(1,), default_value=None, dtype=tf.float32, normalizer_fn=None), NumericColumn(key='SepalWidth', shape=(1,), default_value=None, dtype=tf.float32, normalizer_fn=None), NumericColumn(key='PetalLength', shape=(1,), default_value=None, dtype=tf.float32, normalizer_fn=None), NumericColumn(key='PetalWidth', shape=(1,), default_value=None, dtype=tf.float32, normalizer_fn=None)]\n"
     ]
    }
   ],
   "source": [
    "#make our feature columns\n",
    "my_feature_columns = []\n",
    "for key in train.keys():\n",
    "    my_feature_columns.append(tf.feature_column.numeric_column(key=key))\n",
    "print(my_feature_columns)"
   ]
  },
  {
   "cell_type": "markdown",
   "id": "43690127",
   "metadata": {},
   "source": [
    "<p> We can see the different features stored nicely\n",
    "in the my_feature_columns array. Now we will choose our model. We use a deep-neural network classifier with two hidden layers, of 30 and 10 nodes each.</p>"
   ]
  },
  {
   "cell_type": "code",
   "execution_count": 18,
   "id": "05315be4",
   "metadata": {},
   "outputs": [
    {
     "name": "stdout",
     "output_type": "stream",
     "text": [
      "INFO:tensorflow:Using default config.\n",
      "WARNING:tensorflow:Using temporary folder as model directory: /var/folders/rf/q21h0s5d18j5rw4wyg_lh5x00000gn/T/tmp2mc8rw9h\n",
      "INFO:tensorflow:Using config: {'_model_dir': '/var/folders/rf/q21h0s5d18j5rw4wyg_lh5x00000gn/T/tmp2mc8rw9h', '_tf_random_seed': None, '_save_summary_steps': 100, '_save_checkpoints_steps': None, '_save_checkpoints_secs': 600, '_session_config': allow_soft_placement: true\n",
      "graph_options {\n",
      "  rewrite_options {\n",
      "    meta_optimizer_iterations: ONE\n",
      "  }\n",
      "}\n",
      ", '_keep_checkpoint_max': 5, '_keep_checkpoint_every_n_hours': 10000, '_log_step_count_steps': 100, '_train_distribute': None, '_device_fn': None, '_protocol': None, '_eval_distribute': None, '_experimental_distribute': None, '_experimental_max_worker_delay_secs': None, '_session_creation_timeout_secs': 7200, '_checkpoint_save_graph_def': True, '_service': None, '_cluster_spec': ClusterSpec({}), '_task_type': 'worker', '_task_id': 0, '_global_id_in_cluster': 0, '_master': '', '_evaluation_master': '', '_is_chief': True, '_num_ps_replicas': 0, '_num_worker_replicas': 1}\n"
     ]
    }
   ],
   "source": [
    "classifier = tf.estimator.DNNClassifier(\n",
    "    #features\n",
    "    feature_columns=my_feature_columns,\n",
    "    #layers\n",
    "    hidden_units=[100,100,100],\n",
    "    #3 choices for classification\n",
    "    n_classes=3)"
   ]
  },
  {
   "cell_type": "code",
   "execution_count": 20,
   "id": "7f8e098a",
   "metadata": {},
   "outputs": [
    {
     "name": "stdout",
     "output_type": "stream",
     "text": [
      "INFO:tensorflow:Calling model_fn.\n",
      "INFO:tensorflow:Done calling model_fn.\n",
      "INFO:tensorflow:Create CheckpointSaverHook.\n",
      "INFO:tensorflow:Graph was finalized.\n",
      "INFO:tensorflow:Restoring parameters from /var/folders/rf/q21h0s5d18j5rw4wyg_lh5x00000gn/T/tmp2mc8rw9h/model.ckpt-5000\n",
      "WARNING:tensorflow:From /Users/cravies/Library/Python/3.8/lib/python/site-packages/tensorflow/python/training/saver.py:1078: get_checkpoint_mtimes (from tensorflow.python.training.checkpoint_management) is deprecated and will be removed in a future version.\n",
      "Instructions for updating:\n",
      "Use standard file utilities to get mtimes.\n",
      "INFO:tensorflow:Running local_init_op.\n",
      "INFO:tensorflow:Done running local_init_op.\n",
      "INFO:tensorflow:Calling checkpoint listeners before saving checkpoint 5000...\n",
      "INFO:tensorflow:Saving checkpoints for 5000 into /var/folders/rf/q21h0s5d18j5rw4wyg_lh5x00000gn/T/tmp2mc8rw9h/model.ckpt.\n",
      "INFO:tensorflow:Calling checkpoint listeners after saving checkpoint 5000...\n",
      "INFO:tensorflow:loss = 0.079852596, step = 5000\n",
      "INFO:tensorflow:global_step/sec: 175.196\n",
      "INFO:tensorflow:loss = 0.08178504, step = 5100 (0.573 sec)\n",
      "INFO:tensorflow:global_step/sec: 315.84\n",
      "INFO:tensorflow:loss = 0.082440875, step = 5200 (0.315 sec)\n",
      "INFO:tensorflow:global_step/sec: 224.465\n",
      "INFO:tensorflow:loss = 0.07547259, step = 5300 (0.445 sec)\n",
      "INFO:tensorflow:global_step/sec: 303.061\n",
      "INFO:tensorflow:loss = 0.0649489, step = 5400 (0.330 sec)\n",
      "INFO:tensorflow:global_step/sec: 297.954\n",
      "INFO:tensorflow:loss = 0.07116155, step = 5500 (0.336 sec)\n",
      "INFO:tensorflow:global_step/sec: 317.255\n",
      "INFO:tensorflow:loss = 0.07859434, step = 5600 (0.316 sec)\n",
      "INFO:tensorflow:global_step/sec: 317.502\n",
      "INFO:tensorflow:loss = 0.077908, step = 5700 (0.314 sec)\n",
      "INFO:tensorflow:global_step/sec: 319.459\n",
      "INFO:tensorflow:loss = 0.073489025, step = 5800 (0.314 sec)\n",
      "INFO:tensorflow:global_step/sec: 306.695\n",
      "INFO:tensorflow:loss = 0.070916, step = 5900 (0.324 sec)\n",
      "INFO:tensorflow:global_step/sec: 296.496\n",
      "INFO:tensorflow:loss = 0.06248806, step = 6000 (0.338 sec)\n",
      "INFO:tensorflow:global_step/sec: 307.662\n",
      "INFO:tensorflow:loss = 0.08334483, step = 6100 (0.325 sec)\n",
      "INFO:tensorflow:global_step/sec: 260.374\n",
      "INFO:tensorflow:loss = 0.07331206, step = 6200 (0.385 sec)\n",
      "INFO:tensorflow:global_step/sec: 208.159\n",
      "INFO:tensorflow:loss = 0.060800113, step = 6300 (0.482 sec)\n",
      "INFO:tensorflow:global_step/sec: 157.153\n",
      "INFO:tensorflow:loss = 0.077217154, step = 6400 (0.638 sec)\n",
      "INFO:tensorflow:global_step/sec: 125.207\n",
      "INFO:tensorflow:loss = 0.06886251, step = 6500 (0.797 sec)\n",
      "INFO:tensorflow:global_step/sec: 138.67\n",
      "INFO:tensorflow:loss = 0.06444537, step = 6600 (0.720 sec)\n",
      "INFO:tensorflow:global_step/sec: 182.27\n",
      "INFO:tensorflow:loss = 0.07073456, step = 6700 (0.550 sec)\n",
      "INFO:tensorflow:global_step/sec: 165.348\n",
      "INFO:tensorflow:loss = 0.07321134, step = 6800 (0.605 sec)\n",
      "INFO:tensorflow:global_step/sec: 135.263\n",
      "INFO:tensorflow:loss = 0.06367972, step = 6900 (0.739 sec)\n",
      "INFO:tensorflow:global_step/sec: 235.884\n",
      "INFO:tensorflow:loss = 0.06786997, step = 7000 (0.422 sec)\n",
      "INFO:tensorflow:global_step/sec: 269.341\n",
      "INFO:tensorflow:loss = 0.06810576, step = 7100 (0.372 sec)\n",
      "INFO:tensorflow:global_step/sec: 273.364\n",
      "INFO:tensorflow:loss = 0.068970814, step = 7200 (0.365 sec)\n",
      "INFO:tensorflow:global_step/sec: 319.518\n",
      "INFO:tensorflow:loss = 0.06695104, step = 7300 (0.313 sec)\n",
      "INFO:tensorflow:global_step/sec: 318.645\n",
      "INFO:tensorflow:loss = 0.06595052, step = 7400 (0.314 sec)\n",
      "INFO:tensorflow:global_step/sec: 319.828\n",
      "INFO:tensorflow:loss = 0.0661953, step = 7500 (0.313 sec)\n",
      "INFO:tensorflow:global_step/sec: 292.451\n",
      "INFO:tensorflow:loss = 0.06659037, step = 7600 (0.342 sec)\n",
      "INFO:tensorflow:global_step/sec: 313.843\n",
      "INFO:tensorflow:loss = 0.066299155, step = 7700 (0.319 sec)\n",
      "INFO:tensorflow:global_step/sec: 314.821\n",
      "INFO:tensorflow:loss = 0.07046692, step = 7800 (0.317 sec)\n",
      "INFO:tensorflow:global_step/sec: 317.602\n",
      "INFO:tensorflow:loss = 0.07047711, step = 7900 (0.315 sec)\n",
      "INFO:tensorflow:global_step/sec: 315.189\n",
      "INFO:tensorflow:loss = 0.067868575, step = 8000 (0.318 sec)\n",
      "INFO:tensorflow:global_step/sec: 187.845\n",
      "INFO:tensorflow:loss = 0.051763795, step = 8100 (0.537 sec)\n",
      "INFO:tensorflow:global_step/sec: 235.697\n",
      "INFO:tensorflow:loss = 0.06530381, step = 8200 (0.419 sec)\n",
      "INFO:tensorflow:global_step/sec: 256.424\n",
      "INFO:tensorflow:loss = 0.06393502, step = 8300 (0.391 sec)\n",
      "INFO:tensorflow:global_step/sec: 253.222\n",
      "INFO:tensorflow:loss = 0.058473557, step = 8400 (0.395 sec)\n",
      "INFO:tensorflow:global_step/sec: 249.456\n",
      "INFO:tensorflow:loss = 0.076879516, step = 8500 (0.401 sec)\n",
      "INFO:tensorflow:global_step/sec: 233.729\n",
      "INFO:tensorflow:loss = 0.06124332, step = 8600 (0.428 sec)\n",
      "INFO:tensorflow:global_step/sec: 258.853\n",
      "INFO:tensorflow:loss = 0.063497856, step = 8700 (0.385 sec)\n",
      "INFO:tensorflow:Calling checkpoint listeners before saving checkpoint 8800...\n",
      "INFO:tensorflow:Saving checkpoints for 8800 into /var/folders/rf/q21h0s5d18j5rw4wyg_lh5x00000gn/T/tmp2mc8rw9h/model.ckpt.\n",
      "INFO:tensorflow:Calling checkpoint listeners after saving checkpoint 8800...\n",
      "INFO:tensorflow:Loss for final step: 0.051206775.\n"
     ]
    },
    {
     "data": {
      "text/plain": [
       "<tensorflow_estimator.python.estimator.canned.dnn.DNNClassifierV2 at 0x14ee6e640>"
      ]
     },
     "execution_count": 20,
     "metadata": {},
     "output_type": "execute_result"
    }
   ],
   "source": [
    "#train model\n",
    "classifier.train(\n",
    "    input_fn=lambda: input_fn(train, train_y, training=True),\n",
    "    steps=3800)"
   ]
  },
  {
   "cell_type": "code",
   "execution_count": 24,
   "id": "32ae610c",
   "metadata": {},
   "outputs": [
    {
     "name": "stdout",
     "output_type": "stream",
     "text": [
      "INFO:tensorflow:Calling model_fn.\n",
      "INFO:tensorflow:Done calling model_fn.\n",
      "INFO:tensorflow:Starting evaluation at 2021-10-22T18:42:34\n",
      "INFO:tensorflow:Graph was finalized.\n",
      "INFO:tensorflow:Restoring parameters from /var/folders/rf/q21h0s5d18j5rw4wyg_lh5x00000gn/T/tmp2mc8rw9h/model.ckpt-8800\n",
      "INFO:tensorflow:Running local_init_op.\n",
      "INFO:tensorflow:Done running local_init_op.\n",
      "INFO:tensorflow:Inference Time : 0.31715s\n",
      "INFO:tensorflow:Finished evaluation at 2021-10-22-18:42:35\n",
      "INFO:tensorflow:Saving dict for global step 8800: accuracy = 0.96666664, average_loss = 0.06386842, global_step = 8800, loss = 0.06386842\n",
      "INFO:tensorflow:Saving 'checkpoint_path' summary for global step 8800: /var/folders/rf/q21h0s5d18j5rw4wyg_lh5x00000gn/T/tmp2mc8rw9h/model.ckpt-8800\n",
      "accuracy: {'accuracy': 0.96666664, 'average_loss': 0.06386842, 'loss': 0.06386842, 'global_step': 8800}\n"
     ]
    }
   ],
   "source": [
    "#evaluate model\n",
    "eval_result=classifier.evaluate(input_fn=lambda: input_fn(test,test_y, training=False))\n",
    "print(\"accuracy: {}\".format(eval_result))"
   ]
  }
 ],
 "metadata": {
  "kernelspec": {
   "display_name": "Python 3 (ipykernel)",
   "language": "python",
   "name": "python3"
  },
  "language_info": {
   "codemirror_mode": {
    "name": "ipython",
    "version": 3
   },
   "file_extension": ".py",
   "mimetype": "text/x-python",
   "name": "python",
   "nbconvert_exporter": "python",
   "pygments_lexer": "ipython3",
   "version": "3.8.2"
  }
 },
 "nbformat": 4,
 "nbformat_minor": 5
}
