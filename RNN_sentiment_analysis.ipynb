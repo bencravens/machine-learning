{
 "cells": [
  {
   "cell_type": "markdown",
   "id": "4766b235",
   "metadata": {},
   "source": [
    "<h1> Sentiment Analysis with RNNs </h1>\n",
    "<p> Problem statement: given a set of movie reviews from imdb, train a recurrent neural network to classify the sentiment of a review (positive, negative, etc). </p>"
   ]
  },
  {
   "cell_type": "code",
   "execution_count": 9,
   "id": "c5e600c4",
   "metadata": {},
   "outputs": [],
   "source": [
    "from keras.datasets import imdb\n",
    "from keras.preprocessing import sequence\n",
    "import keras\n",
    "import tensorflow as tf\n",
    "import os\n",
    "import numpy as np\n",
    "\n",
    "VOCAB_SIZE = 88584\n",
    "MAXLEN=250\n",
    "BATCH_SIZE=64\n",
    "\n",
    "(train_data, train_labels), (test_data, test_labels) = imdb.load_data(num_words = VOCAB_SIZE)"
   ]
  },
  {
   "cell_type": "code",
   "execution_count": 2,
   "id": "3b2a05de",
   "metadata": {},
   "outputs": [
    {
     "data": {
      "text/plain": [
       "[1,\n",
       " 14,\n",
       " 22,\n",
       " 16,\n",
       " 43,\n",
       " 530,\n",
       " 973,\n",
       " 1622,\n",
       " 1385,\n",
       " 65,\n",
       " 458,\n",
       " 4468,\n",
       " 66,\n",
       " 3941,\n",
       " 4,\n",
       " 173,\n",
       " 36,\n",
       " 256,\n",
       " 5,\n",
       " 25,\n",
       " 100,\n",
       " 43,\n",
       " 838,\n",
       " 112,\n",
       " 50,\n",
       " 670,\n",
       " 22665,\n",
       " 9,\n",
       " 35,\n",
       " 480,\n",
       " 284,\n",
       " 5,\n",
       " 150,\n",
       " 4,\n",
       " 172,\n",
       " 112,\n",
       " 167,\n",
       " 21631,\n",
       " 336,\n",
       " 385,\n",
       " 39,\n",
       " 4,\n",
       " 172,\n",
       " 4536,\n",
       " 1111,\n",
       " 17,\n",
       " 546,\n",
       " 38,\n",
       " 13,\n",
       " 447,\n",
       " 4,\n",
       " 192,\n",
       " 50,\n",
       " 16,\n",
       " 6,\n",
       " 147,\n",
       " 2025,\n",
       " 19,\n",
       " 14,\n",
       " 22,\n",
       " 4,\n",
       " 1920,\n",
       " 4613,\n",
       " 469,\n",
       " 4,\n",
       " 22,\n",
       " 71,\n",
       " 87,\n",
       " 12,\n",
       " 16,\n",
       " 43,\n",
       " 530,\n",
       " 38,\n",
       " 76,\n",
       " 15,\n",
       " 13,\n",
       " 1247,\n",
       " 4,\n",
       " 22,\n",
       " 17,\n",
       " 515,\n",
       " 17,\n",
       " 12,\n",
       " 16,\n",
       " 626,\n",
       " 18,\n",
       " 19193,\n",
       " 5,\n",
       " 62,\n",
       " 386,\n",
       " 12,\n",
       " 8,\n",
       " 316,\n",
       " 8,\n",
       " 106,\n",
       " 5,\n",
       " 4,\n",
       " 2223,\n",
       " 5244,\n",
       " 16,\n",
       " 480,\n",
       " 66,\n",
       " 3785,\n",
       " 33,\n",
       " 4,\n",
       " 130,\n",
       " 12,\n",
       " 16,\n",
       " 38,\n",
       " 619,\n",
       " 5,\n",
       " 25,\n",
       " 124,\n",
       " 51,\n",
       " 36,\n",
       " 135,\n",
       " 48,\n",
       " 25,\n",
       " 1415,\n",
       " 33,\n",
       " 6,\n",
       " 22,\n",
       " 12,\n",
       " 215,\n",
       " 28,\n",
       " 77,\n",
       " 52,\n",
       " 5,\n",
       " 14,\n",
       " 407,\n",
       " 16,\n",
       " 82,\n",
       " 10311,\n",
       " 8,\n",
       " 4,\n",
       " 107,\n",
       " 117,\n",
       " 5952,\n",
       " 15,\n",
       " 256,\n",
       " 4,\n",
       " 31050,\n",
       " 7,\n",
       " 3766,\n",
       " 5,\n",
       " 723,\n",
       " 36,\n",
       " 71,\n",
       " 43,\n",
       " 530,\n",
       " 476,\n",
       " 26,\n",
       " 400,\n",
       " 317,\n",
       " 46,\n",
       " 7,\n",
       " 4,\n",
       " 12118,\n",
       " 1029,\n",
       " 13,\n",
       " 104,\n",
       " 88,\n",
       " 4,\n",
       " 381,\n",
       " 15,\n",
       " 297,\n",
       " 98,\n",
       " 32,\n",
       " 2071,\n",
       " 56,\n",
       " 26,\n",
       " 141,\n",
       " 6,\n",
       " 194,\n",
       " 7486,\n",
       " 18,\n",
       " 4,\n",
       " 226,\n",
       " 22,\n",
       " 21,\n",
       " 134,\n",
       " 476,\n",
       " 26,\n",
       " 480,\n",
       " 5,\n",
       " 144,\n",
       " 30,\n",
       " 5535,\n",
       " 18,\n",
       " 51,\n",
       " 36,\n",
       " 28,\n",
       " 224,\n",
       " 92,\n",
       " 25,\n",
       " 104,\n",
       " 4,\n",
       " 226,\n",
       " 65,\n",
       " 16,\n",
       " 38,\n",
       " 1334,\n",
       " 88,\n",
       " 12,\n",
       " 16,\n",
       " 283,\n",
       " 5,\n",
       " 16,\n",
       " 4472,\n",
       " 113,\n",
       " 103,\n",
       " 32,\n",
       " 15,\n",
       " 16,\n",
       " 5345,\n",
       " 19,\n",
       " 178,\n",
       " 32]"
      ]
     },
     "execution_count": 2,
     "metadata": {},
     "output_type": "execute_result"
    }
   ],
   "source": [
    "#take a look at one review\n",
    "train_data[0]"
   ]
  },
  {
   "cell_type": "markdown",
   "id": "1fcdeda4",
   "metadata": {},
   "source": [
    "<p> Looks like the words of the reviews are already encoded in integer form. </p>"
   ]
  },
  {
   "cell_type": "code",
   "execution_count": 3,
   "id": "f2ddfc0a",
   "metadata": {},
   "outputs": [],
   "source": [
    "#trim and pad the reviews so they are all the same length. \n",
    "train_data = sequence.pad_sequences(train_data, MAXLEN)\n",
    "test_data = sequence.pad_sequences(test_data, MAXLEN)"
   ]
  },
  {
   "cell_type": "markdown",
   "id": "0d071dae",
   "metadata": {},
   "source": [
    "<p> Now we create the model. We first add a word-embedding layer to learn the word embeddings. Then we add a LSTM to learn semantic understanding of the reviews, and feed that into a dense layer to classify the reviews as positive or negative. ($x<=0.5=positive, x>=0.5=negative$ etc)</p> "
   ]
  },
  {
   "cell_type": "code",
   "execution_count": 5,
   "id": "38ef0a4f",
   "metadata": {},
   "outputs": [
    {
     "name": "stdout",
     "output_type": "stream",
     "text": [
      "Model: \"sequential_1\"\n",
      "_________________________________________________________________\n",
      "Layer (type)                 Output Shape              Param #   \n",
      "=================================================================\n",
      "embedding_1 (Embedding)      (None, None, 32)          2834688   \n",
      "_________________________________________________________________\n",
      "lstm_1 (LSTM)                (None, 32)                8320      \n",
      "_________________________________________________________________\n",
      "dense_1 (Dense)              (None, 1)                 33        \n",
      "=================================================================\n",
      "Total params: 2,843,041\n",
      "Trainable params: 2,843,041\n",
      "Non-trainable params: 0\n",
      "_________________________________________________________________\n"
     ]
    }
   ],
   "source": [
    "model = tf.keras.Sequential([\n",
    "    tf.keras.layers.Embedding(VOCAB_SIZE, 32),\n",
    "    tf.keras.layers.LSTM(32),\n",
    "    tf.keras.layers.Dense(1, activation='sigmoid')\n",
    "])\n",
    "model.summary()"
   ]
  },
  {
   "cell_type": "markdown",
   "id": "21ea4ae3",
   "metadata": {},
   "source": [
    "<p> Looks like the embedding layer is pretty massive. This will likely take most of our training compute time. </p>"
   ]
  },
  {
   "cell_type": "code",
   "execution_count": 6,
   "id": "4ec3191a",
   "metadata": {},
   "outputs": [
    {
     "name": "stderr",
     "output_type": "stream",
     "text": [
      "2021-10-26 11:24:07.449614: I tensorflow/compiler/mlir/mlir_graph_optimization_pass.cc:185] None of the MLIR Optimization Passes are enabled (registered 2)\n"
     ]
    },
    {
     "name": "stdout",
     "output_type": "stream",
     "text": [
      "Epoch 1/10\n",
      "625/625 [==============================] - 68s 104ms/step - loss: 0.4117 - acc: 0.8134 - val_loss: 0.2902 - val_acc: 0.8826\n",
      "Epoch 2/10\n",
      "625/625 [==============================] - 63s 101ms/step - loss: 0.2359 - acc: 0.9097 - val_loss: 0.2604 - val_acc: 0.8982\n",
      "Epoch 3/10\n",
      "625/625 [==============================] - 68s 109ms/step - loss: 0.1803 - acc: 0.9341 - val_loss: 0.3174 - val_acc: 0.8804\n",
      "Epoch 4/10\n",
      "625/625 [==============================] - 60s 96ms/step - loss: 0.1481 - acc: 0.9471 - val_loss: 0.2907 - val_acc: 0.8786\n",
      "Epoch 5/10\n",
      "625/625 [==============================] - 59s 94ms/step - loss: 0.1268 - acc: 0.9562 - val_loss: 0.3000 - val_acc: 0.8922\n",
      "Epoch 6/10\n",
      "625/625 [==============================] - 56s 90ms/step - loss: 0.1104 - acc: 0.9629 - val_loss: 0.3060 - val_acc: 0.8850\n",
      "Epoch 7/10\n",
      "625/625 [==============================] - 58s 92ms/step - loss: 0.0947 - acc: 0.9683 - val_loss: 0.3786 - val_acc: 0.8866\n",
      "Epoch 8/10\n",
      "625/625 [==============================] - 57s 91ms/step - loss: 0.0831 - acc: 0.9726 - val_loss: 0.3491 - val_acc: 0.8910\n",
      "Epoch 9/10\n",
      "625/625 [==============================] - 59s 94ms/step - loss: 0.0741 - acc: 0.9769 - val_loss: 0.4121 - val_acc: 0.8502\n",
      "Epoch 10/10\n",
      "625/625 [==============================] - 64s 102ms/step - loss: 0.0643 - acc: 0.9796 - val_loss: 0.4048 - val_acc: 0.8756\n"
     ]
    }
   ],
   "source": [
    "model.compile(\n",
    "    loss='binary_crossentropy',\n",
    "    optimizer='rmsprop',\n",
    "    metrics=['acc']\n",
    ")\n",
    "history=model.fit(train_data, train_labels, \n",
    "                  epochs=10, validation_split=0.2)"
   ]
  },
  {
   "cell_type": "markdown",
   "id": "d03c79df",
   "metadata": {},
   "source": [
    "<p> Binary cross-entropy is because we have two categories for our probability distribution. validation_split means that 20% of our training data will be used to validate the model during training. </p>"
   ]
  },
  {
   "cell_type": "code",
   "execution_count": 7,
   "id": "38092181",
   "metadata": {},
   "outputs": [
    {
     "name": "stdout",
     "output_type": "stream",
     "text": [
      "782/782 [==============================] - 20s 25ms/step - loss: 0.4701 - acc: 0.8500\n",
      "[0.47008123993873596, 0.8499600291252136]\n"
     ]
    }
   ],
   "source": [
    "results = model.evaluate(test_data, test_labels)\n",
    "print(results)"
   ]
  },
  {
   "cell_type": "markdown",
   "id": "388a5197",
   "metadata": {},
   "source": [
    "<p> Making a prediction by writing a function to encode any text into the same format that the training data was in: </p>"
   ]
  },
  {
   "cell_type": "code",
   "execution_count": 12,
   "id": "2e1c4e78",
   "metadata": {},
   "outputs": [
    {
     "name": "stdout",
     "output_type": "stream",
     "text": [
      "[   0    0    0    0    0    0    0    0    0    0    0    0    0    0\n",
      "    0    0    0    0    0    0    0    0    0    0    0    0    0    0\n",
      "    0    0    0    0    0    0    0    0    0    0    0    0    0    0\n",
      "    0    0    0    0    0    0    0    0    0    0    0    0    0    0\n",
      "    0    0    0    0    0    0    0    0    0    0    0    0    0    0\n",
      "    0    0    0    0    0    0    0    0    0    0    0    0    0    0\n",
      "    0    0    0    0    0    0    0    0    0    0    0    0    0    0\n",
      "    0    0    0    0    0    0    0    0    0    0    0    0    0    0\n",
      "    0    0    0    0    0    0    0    0    0    0    0    0    0    0\n",
      "    0    0    0    0    0    0    0    0    0    0    0    0    0    0\n",
      "    0    0    0    0    0    0    0    0    0    0    0    0    0    0\n",
      "    0    0    0    0    0    0    0    0    0    0    0    0    0    0\n",
      "    0    0    0    0    0    0    0    0    0    0    0    0    0    0\n",
      "    0    0    0    0    0    0    0    0    0    0    0    0    0    0\n",
      "    0    0    0    0    0    0    0    0    0    0    0    0    0    0\n",
      "    0    0    0    0    0    0    0    0    0    0    0    0    0    0\n",
      "    0    0    0    0    0    0    0    0    0    0    0    0    0    0\n",
      "    0    0    0    0    0   10 1797    1   17    9   63 2064]\n",
      "i hated the movie it really sucked\n"
     ]
    }
   ],
   "source": [
    "word_index = imdb.get_word_index()\n",
    "reverse_word_index = {value: key for (key, value) in word_index.items()}\n",
    "\n",
    "def encode_text(text):\n",
    "    tokens = keras.preprocessing.text.text_to_word_sequence(text)\n",
    "    tokens = [word_index[word] if word in word_index else 0 for word in tokens]\n",
    "    return sequence.pad_sequences([tokens],MAXLEN)[0]\n",
    "\n",
    "def decode_integers(integers):\n",
    "    PAD=0\n",
    "    text=\"\"\n",
    "    for num in integers: \n",
    "        if num != PAD:\n",
    "            text += reverse_word_index[num] + \" \"\n",
    "        \n",
    "    return text[:-1]\n",
    "\n",
    "text=\"I hated the movie, it really sucked.\"\n",
    "encoded=encode_text(text)\n",
    "print(encoded)\n",
    "decoded=decode_integers(encoded)\n",
    "print(decoded)"
   ]
  },
  {
   "cell_type": "code",
   "execution_count": 21,
   "id": "6711dc8e",
   "metadata": {},
   "outputs": [
    {
     "name": "stdout",
     "output_type": "stream",
     "text": [
      "[0.97563255]\n",
      "Positive review\n",
      "[0.3720082]\n",
      "Negative review\n"
     ]
    }
   ],
   "source": [
    "#now make a prediction!\n",
    "\n",
    "def predict(text):\n",
    "    #encode text\n",
    "    encoded_text = encode_text(text)\n",
    "    #reshape into numpy array\n",
    "    data = np.zeros((1,250))\n",
    "    data[0] = encoded_text\n",
    "    #make prediction\n",
    "    result = model.predict(data)\n",
    "    print(result[0])\n",
    "    if result[0] > 0.5:\n",
    "        print(\"Positive review\")\n",
    "    else:\n",
    "        print(\"Negative review\")\n",
    "    \n",
    "positive_text=\"This movie was awesome dude. I love this movie. I would watch this movie again many times because I loved it so much.\"\n",
    "negative_text=\"that movie sucked. I hated it and wouldn't watch it again. Was one of the worst things i've ever watched.\"\n",
    "predict(positive_text)\n",
    "predict(negative_text)"
   ]
  }
 ],
 "metadata": {
  "kernelspec": {
   "display_name": "Python 3 (ipykernel)",
   "language": "python",
   "name": "python3"
  },
  "language_info": {
   "codemirror_mode": {
    "name": "ipython",
    "version": 3
   },
   "file_extension": ".py",
   "mimetype": "text/x-python",
   "name": "python",
   "nbconvert_exporter": "python",
   "pygments_lexer": "ipython3",
   "version": "3.8.2"
  }
 },
 "nbformat": 4,
 "nbformat_minor": 5
}
