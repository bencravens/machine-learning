{
 "cells": [
  {
   "cell_type": "code",
   "execution_count": 5,
   "id": "08004e33",
   "metadata": {},
   "outputs": [
    {
     "name": "stdout",
     "output_type": "stream",
     "text": [
      " alone;the privilege of discoursing upon the whale, which even now i amcertain that those who byaccident ignorantly gave battle to mobydick, in the sea steelkilt calculated his time, and found only an old rigger there, wrapped in atattered pea-jacket he was thrown back so that the submerged ends could not but be all this struck me as mighty singular; yet, upon second thoughts, therewas something almost sublime in thought, a fine human brow is majestic human or animal, the mystical brow isas that great iron hook—poor queequeg, i suppose, only prayedto his yojo, and gave up his life to theministry at the mizen-mast-head, stood directly behind ahab, thoughsomewhat lower than his level, and with the microscopic diligence of aleuwenhoeck submits to the enderbies, therefore, whose house, i think, sir, they have somesuch mild blue days, even as this, in nantucket invest their money inwhaling vessels, the same way that you may understand exactly how to take command; for sometimes these tuftsimpart a rather brigandish expression to his otherwise solemncountenance as every one ofthem americans; a nantucketer, a vineyarder, and thebitterly provoked vengeance of steelkilt, a lakeman and desperado frombuffalo “‘lakeman!—buffalo! pray, what is a curious chap, and a twistedturmoil ensued; while standing inthe bows to prick the fugitive whales, had his hat taken clean from hishead by the lord, it’s worth bottling! itell ye what, men, old rad’s investment must go for it; but the flying turn caught him round theneck, and voicelessly as turkish mutes bowstring their victim, he wasshot out of the tropical sea, amongwaves whose hand-clappings were suspended by exceeding rapture, mobydick moved on, still withholding from sight the full terrors of hissubmerged trunk, entirely hiding the wrenched hideousness of his colossal limbs, making the lowcabin framework to shake, as when by unseen hands the dinis deafening but a handful, the captain calledupon the islanders to assist him in a terror to the greek mythologies, thatantique crockett and kit carson—that brawny doer of rejoicing gooddeeds, was swallowed down and repair i am notsuperstitious, but i felt it; and it hascost steady years of cruising standing in iron hoopsnailed to the mast, and be spent inthat way and the other, having just broken away from the waters, and the last arrived harpooneers, i dare say oh yes, _that_ every one of their pipes almost shortoff at the bowl, thinks ito myself, i wonder now if our old man of oceans! of all polynesia confess the same linebeing continuously coiled in both tubs there is a ship-load of precious sperm in him, but, harkye, he’s best let all your horribles! i feel funny fa, la! lirra,skirra! what’s my juicy little pear at home well, hewas at home, and asked him for a folder in reading pamphlets the narwhale i have heard that in this attitude the white whale had been firstdescried; and whether i shall do anything that, upon the whole, but inall cases did not succeed in his whale-boat the rover softly feels acertain filial, confident, land-like feeling towards the bulwarks, sir ”“oh, oh, oh! how immaterial are allmaterials! what things real are there, but imponderable thoughts? herenow’s the very body of all surprisingterrible events,—as the smitten tree gives birth to its own off-spring; worse than being in fact take my body still continued his horizontalflight, with added fleetness such unintermitted strainings upon theplanted iron must sooner or later inevitably extract it it becameimperative to lance the flying bubbles might havesprinkled her hull with their ghostly baptism as ahab now glided from the dejected delight, the strange life-buoyhanging at the base, andjet-black as yojo, the ebony idol of\n"
     ]
    }
   ],
   "source": [
    "#simple markov chain text generation\n",
    "import random \n",
    "\n",
    "def readwords(filename):\n",
    "    myfile = open(filename, \"r\")\n",
    "    text = myfile.read().lower()\n",
    "    #strip newlines and periods, remove empty strings\n",
    "    text = text.replace('\\n','')\n",
    "    text = text.replace('.', ' ')\n",
    "    words= text.split(' ')\n",
    "    words = [word for word in words if word!='']\n",
    "    return words\n",
    "\n",
    "def markov(filename,numwords,phraselen):\n",
    "    #make a dictionary with unique words as keys\n",
    "    #values are instances of words that come after \n",
    "    words = readwords(filename)\n",
    "    #collate words into phrase of length phraselen\n",
    "    words = [\" \".join(words[i:i+phraselen]) for i in range(len(words)-phraselen)]\n",
    "    #unique phrases\n",
    "    keys = list(set(words))\n",
    "    #dictionary to associate phrases with phrases that come after them\n",
    "    d = {}\n",
    "    for key in keys:\n",
    "        d.setdefault(key,[])\n",
    "    #now find words that come after\n",
    "    for i in range(len(words)-phraselen):\n",
    "        d[words[i]].append(words[i+phraselen])\n",
    "    #generate text\n",
    "    result=\"\"\n",
    "    #seed start of paragraph\n",
    "    randword = random.choice(keys)\n",
    "    count = 0\n",
    "    while count < numwords:\n",
    "        result += \" {}\".format(randword)\n",
    "        randwordnext = random.choice(d[randword])\n",
    "        randword = randwordnext\n",
    "        count += 1\n",
    "    print(result)\n",
    "\n",
    "if __name__==\"__main__\":\n",
    "    markov(\"moby_dick.txt\", 300,2)"
   ]
  },
  {
   "cell_type": "code",
   "execution_count": null,
   "id": "39a78305",
   "metadata": {},
   "outputs": [],
   "source": []
  },
  {
   "cell_type": "code",
   "execution_count": null,
   "id": "b90c2111",
   "metadata": {},
   "outputs": [],
   "source": []
  }
 ],
 "metadata": {
  "kernelspec": {
   "display_name": "Python 3 (ipykernel)",
   "language": "python",
   "name": "python3"
  },
  "language_info": {
   "codemirror_mode": {
    "name": "ipython",
    "version": 3
   },
   "file_extension": ".py",
   "mimetype": "text/x-python",
   "name": "python",
   "nbconvert_exporter": "python",
   "pygments_lexer": "ipython3",
   "version": "3.8.2"
  }
 },
 "nbformat": 4,
 "nbformat_minor": 5
}
