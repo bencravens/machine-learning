{
 "cells": [
  {
   "cell_type": "markdown",
   "id": "617767be",
   "metadata": {},
   "source": [
    "<h1> Hidden Markov Models </h1>\n",
    "<p> A hidden markov model is based on the idea of a Markov chain. From Wikipedia: \"A Hidden Markov Model (HMM) is a statistical Markov model in which the system being modeled is assumed to be a Markov process — call it $X$ - with unobservable (\"hidden\") states. As part of the definition, HMM requires that there be an observable process $Y$ whose outcomes are \"influenced\" by the outcomes of $X$ in a known way. Since $X$ cannot be observed directly, the goal is to learn about $X$ by observing $Y$.\" </p>\n",
    "<p> Markov models deal with states, and probability distributions over those states. Transitions between the states are known as transition probabilities. </p>\n",
    "\n",
    "<h2> Weather Model </h2>\n",
    "<p>(Taken directly from the TensorFlow documentation)</p>\n",
    "<p> Model a simple weather system and try to predict the temperature on a given day using the following information: </p>\n",
    "<ul>\n",
    "    <li>Cold days are encoded by 0 and hot days are encoded by 1.</li>\n",
    "    <li>The first day has an 80% chance of being cold.</li>\n",
    "    <li>A cold day has a 30% chance of being followed by a hot day.</li>\n",
    "    <li>A hot day has a 20% chance of being followed by a cold day.</li>\n",
    "    <li>On each day the temperature is normally distributed with $\\text{mean}=0$ and $\\text{stddev}=5$ on a cold day, and $\\text{mean}=15$ and $\\text{stddev}=10$ on a hot day.</li>\n",
    "</ul>"
   ]
  },
  {
   "cell_type": "code",
   "execution_count": 17,
   "id": "bce9f7aa",
   "metadata": {},
   "outputs": [
    {
     "name": "stdout",
     "output_type": "stream",
     "text": [
      "\u001b[33mWARNING: You are using pip version 21.2.4; however, version 21.3 is available.\r\n",
      "You should consider upgrading via the '/Library/Developer/CommandLineTools/usr/bin/python3 -m pip install --upgrade pip' command.\u001b[0m\r\n"
     ]
    }
   ],
   "source": [
    "!pip install -q tensorflow_probability\n",
    "import tensorflow_probability as tfp\n",
    "import tensorflow as tf\n",
    "import numpy as np\n",
    "from matplotlib import pyplot as plt"
   ]
  },
  {
   "cell_type": "code",
   "execution_count": 18,
   "id": "a35e7499",
   "metadata": {},
   "outputs": [],
   "source": [
    "#define the distributions\n",
    "tfd = tfp.distributions\n",
    "initial_distribution = tfd.Categorical(probs=[0.8,0.2])\n",
    "transition_distribution = tfd.Categorical(probs=[[0.7, 0.3],\n",
    "                                                 [0.2, 0.8]])\n",
    "#loc is mean, scale is stddev\n",
    "observation_distribution = tfd.Normal(loc=[0.,15.],\n",
    "                                     scale=[5.,10.])"
   ]
  },
  {
   "cell_type": "code",
   "execution_count": 19,
   "id": "d215d00a",
   "metadata": {},
   "outputs": [],
   "source": [
    "#make the model\n",
    "model = tfd.HiddenMarkovModel(\n",
    "    initial_distribution=initial_distribution,\n",
    "    transition_distribution=transition_distribution,\n",
    "    observation_distribution=observation_distribution,\n",
    "    num_steps=10\n",
    ")"
   ]
  },
  {
   "cell_type": "code",
   "execution_count": 20,
   "id": "9aaf63d0",
   "metadata": {},
   "outputs": [
    {
     "data": {
      "image/png": "[encoded data removed]",
      "text/plain": [
       "<Figure size 432x288 with 1 Axes>"
      ]
     },
     "metadata": {
      "needs_background": "light"
     },
     "output_type": "display_data"
    }
   ],
   "source": [
    "#get expected temperatures on each day\n",
    "mean = model.mean()\n",
    "\n",
    "#grab the value by running a session\n",
    "with tf.compat.v1.Session() as sess:\n",
    "    temps = mean.numpy()\n",
    "    plt.plot(temps)\n",
    "    plt.xlabel(\"days\")\n",
    "    plt.ylabel(\"temp (deg celsius)\")\n",
    "    plt.title(\"Temperature over time\")"
   ]
  },
  {
   "cell_type": "markdown",
   "id": "9e4fb59e",
   "metadata": {},
   "source": [
    "<p> Expected temperature gets hotter over time, which makes sense as the transition from cold to hot is more likely than the reverse. </p>"
   ]
  },
  {
   "cell_type": "code",
   "execution_count": null,
   "id": "71a55769",
   "metadata": {},
   "outputs": [],
   "source": []
  }
 ],
 "metadata": {
  "kernelspec": {
   "display_name": "Python 3 (ipykernel)",
   "language": "python",
   "name": "python3"
  },
  "language_info": {
   "codemirror_mode": {
    "name": "ipython",
    "version": 3
   },
   "file_extension": ".py",
   "mimetype": "text/x-python",
   "name": "python",
   "nbconvert_exporter": "python",
   "pygments_lexer": "ipython3",
   "version": "3.8.2"
  }
 },
 "nbformat": 4,
 "nbformat_minor": 5
}
